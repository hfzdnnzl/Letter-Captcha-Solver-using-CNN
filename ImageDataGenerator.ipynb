{
 "cells": [
  {
   "cell_type": "code",
   "execution_count": 1,
   "id": "184e63ba",
   "metadata": {},
   "outputs": [],
   "source": [
    "# library\n",
    "import os\n",
    "import cv2\n",
    "from random import randint\n",
    "from keras.preprocessing.image import ImageDataGenerator, load_img, img_to_array"
   ]
  },
  {
   "cell_type": "code",
   "execution_count": 2,
   "id": "d59381b4",
   "metadata": {},
   "outputs": [],
   "source": [
    "# initialize image generator\n",
    "datagen = ImageDataGenerator(rotation_range=10,\n",
    "                             zoom_range=0.1,\n",
    "                             width_shift_range=0.1,\n",
    "                             height_shift_range=0.1,\n",
    "                             brightness_range = [0.2,1.0],\n",
    "                             fill_mode = 'nearest')\n",
    "# list all images\n",
    "img_list = os.listdir('train\\\\captcha')\n",
    "img_label = [x.split('_')[0] for x in img_list]"
   ]
  },
  {
   "cell_type": "code",
   "execution_count": 13,
   "id": "bd4f049e",
   "metadata": {},
   "outputs": [],
   "source": [
    "for num in range(len(img_list)):\n",
    "    # load image\n",
    "    img = cv2.imread(os.path.join('train\\\\captcha',img_list[num]),cv2.IMREAD_UNCHANGED)\n",
    "    # background\n",
    "    if(img.shape[2]==4):\n",
    "        trans_mask = img[:,:,3] == 0\n",
    "        rb = randint(100,255)\n",
    "        img[trans_mask] = [rb, rb, rb, rb]\n",
    "        img = cv2.cvtColor(img, cv2.COLOR_BGRA2RGB)\n",
    "    else:\n",
    "        img = cv2.cvtColor(img, cv2.COLOR_BGR2RGB)\n",
    "    # reshape\n",
    "    x = img_to_array(img)\n",
    "    x = x.reshape((1,)+x.shape)\n",
    "    # generate image\n",
    "    i = 0\n",
    "    for batch in datagen.flow(x, batch_size=1, save_to_dir='train/gen_captcha', save_prefix=img_label[num],save_format='png'):\n",
    "        i +=1\n",
    "        if i>10:break"
   ]
  },
  {
   "cell_type": "code",
   "execution_count": 2,
   "id": "d542c8a3",
   "metadata": {},
   "outputs": [],
   "source": [
    "#generate images for bad captcha\n",
    "datagen = ImageDataGenerator(rotation_range=10,\n",
    "                             zoom_range=0.1,\n",
    "                             width_shift_range=0.1,\n",
    "                             height_shift_range=0.1,\n",
    "                             brightness_range = [0.2,1.0],\n",
    "                             fill_mode = 'nearest')\n",
    "# list all images\n",
    "img_list = os.listdir('train\\\\bad_captcha')\n",
    "\n",
    "for num in range(len(img_list)):\n",
    "    # load image\n",
    "    img = cv2.imread(os.path.join('train\\\\bad_captcha',img_list[num]),cv2.IMREAD_UNCHANGED)\n",
    "    # background\n",
    "    if(img.shape[2]==4):\n",
    "        trans_mask = img[:,:,3] == 0\n",
    "        rb = randint(100,255)\n",
    "        img[trans_mask] = [rb, rb, rb, rb]\n",
    "        img = cv2.cvtColor(img, cv2.COLOR_BGRA2RGB)\n",
    "    else:\n",
    "        img = cv2.cvtColor(img, cv2.COLOR_BGR2RGB)\n",
    "    # reshape\n",
    "    x = img_to_array(img)\n",
    "    x = x.reshape((1,)+x.shape)\n",
    "    # generate image\n",
    "    i = 0\n",
    "    for batch in datagen.flow(x, batch_size=1, save_to_dir='train/gen_bad_captcha', save_prefix='bad',save_format='png'):\n",
    "        i +=1\n",
    "        if i>10:break"
   ]
  },
  {
   "cell_type": "code",
   "execution_count": 3,
   "id": "61f9d351",
   "metadata": {},
   "outputs": [
    {
     "data": {
      "text/plain": [
       "3810"
      ]
     },
     "execution_count": 3,
     "metadata": {},
     "output_type": "execute_result"
    }
   ],
   "source": [
    "len(img_list)*10"
   ]
  }
 ],
 "metadata": {
  "kernelspec": {
   "display_name": "Python 3",
   "language": "python",
   "name": "python3"
  },
  "language_info": {
   "codemirror_mode": {
    "name": "ipython",
    "version": 3
   },
   "file_extension": ".py",
   "mimetype": "text/x-python",
   "name": "python",
   "nbconvert_exporter": "python",
   "pygments_lexer": "ipython3",
   "version": "3.8.8"
  }
 },
 "nbformat": 4,
 "nbformat_minor": 5
}
