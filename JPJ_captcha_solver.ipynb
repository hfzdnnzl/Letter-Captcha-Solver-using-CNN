{
 "cells": [
  {
   "cell_type": "code",
   "execution_count": 1,
   "id": "52e9187f",
   "metadata": {},
   "outputs": [
    {
     "name": "stdout",
     "output_type": "stream",
     "text": [
      "Requirement already satisfied: captcha in c:\\users\\qwerty\\anaconda3\\lib\\site-packages (0.3)\n",
      "Requirement already satisfied: Pillow in c:\\users\\qwerty\\anaconda3\\lib\\site-packages (from captcha) (8.2.0)\n",
      "Note: you may need to restart the kernel to use updated packages.\n",
      "Requirement already satisfied: opencv-python in c:\\users\\qwerty\\anaconda3\\lib\\site-packages (4.5.3.56)\n",
      "Requirement already satisfied: numpy>=1.17.3 in c:\\users\\qwerty\\anaconda3\\lib\\site-packages (from opencv-python) (1.19.5)\n",
      "Note: you may need to restart the kernel to use updated packages.\n"
     ]
    },
    {
     "name": "stderr",
     "output_type": "stream",
     "text": [
      "'apt' is not recognized as an internal or external command,\n",
      "operable program or batch file.\n"
     ]
    },
    {
     "name": "stdout",
     "output_type": "stream",
     "text": [
      "Requirement already satisfied: opencv-python-headless in c:\\users\\qwerty\\anaconda3\\lib\\site-packages (4.5.3.56)\n",
      "Requirement already satisfied: numpy>=1.17.3 in c:\\users\\qwerty\\anaconda3\\lib\\site-packages (from opencv-python-headless) (1.19.5)\n",
      "Requirement already satisfied: opencv-contrib-python-headless in c:\\users\\qwerty\\anaconda3\\lib\\site-packages (4.5.3.56)\n",
      "Requirement already satisfied: numpy>=1.17.3 in c:\\users\\qwerty\\anaconda3\\lib\\site-packages (from opencv-contrib-python-headless) (1.19.5)\n",
      "Requirement already satisfied: keras in c:\\users\\qwerty\\anaconda3\\lib\\site-packages (2.4.3)\n",
      "Requirement already satisfied: pyyaml in c:\\users\\qwerty\\anaconda3\\lib\\site-packages (from keras) (5.4.1)\n",
      "Requirement already satisfied: h5py in c:\\users\\qwerty\\anaconda3\\lib\\site-packages (from keras) (3.1.0)\n",
      "Requirement already satisfied: numpy>=1.9.1 in c:\\users\\qwerty\\anaconda3\\lib\\site-packages (from keras) (1.19.5)\n",
      "Requirement already satisfied: scipy>=0.14 in c:\\users\\qwerty\\anaconda3\\lib\\site-packages (from keras) (1.6.2)\n",
      "Note: you may need to restart the kernel to use updated packages.\n"
     ]
    }
   ],
   "source": [
    "%pip install captcha \n",
    "%pip install opencv-python\n",
    "!apt update && apt install -y libsm6 libxext6\n",
    "!pip install opencv-python-headless\n",
    "!pip install opencv-contrib-python-headless\n",
    "%pip install keras\n",
    "\n",
    "\n",
    "import argparse\n",
    "import json\n",
    "import string\n",
    "import os\n",
    "import shutil\n",
    "import uuid\n",
    "from captcha.image import ImageCaptcha\n",
    "\n",
    "import itertools\n",
    "\n",
    "import os\n",
    "import cv2\n",
    "import numpy as np\n",
    "from random import random, randint, choices\n",
    "\n",
    "import keras\n",
    "from keras.models import Sequential, Model\n",
    "from keras.layers import Dense, Dropout, Activation, Flatten\n",
    "from keras.layers import Conv2D, MaxPooling2D, Input\n",
    "import matplotlib.pyplot as plt"
   ]
  },
  {
   "cell_type": "code",
   "execution_count": 3,
   "id": "85169dfe",
   "metadata": {},
   "outputs": [],
   "source": [
    "BATCH_SIZE = 128\n",
    "NUM_OF_LETTERS = 4\n",
    "EPOCHS = 50\n",
    "IMG_ROW, IMG_COLS = 50, 150\n",
    "\n",
    "\n",
    "# Non-configs\n",
    "PATH = os.getcwd()\n",
    "DATA_PATH = os.path.join(PATH, 'train\\\\gen_captcha')"
   ]
  },
  {
   "cell_type": "code",
   "execution_count": 5,
   "id": "c4e463b6",
   "metadata": {},
   "outputs": [
    {
     "data": {
      "text/plain": [
       "-1"
      ]
     },
     "execution_count": 5,
     "metadata": {},
     "output_type": "execute_result"
    }
   ],
   "source": [
    "# checking channel\n",
    "# img = cv2.imread(os.path.join(DATA_PATH, '9963_0_1680.png'),cv2.IMREAD_UNCHANGED)\n",
    "# img = cv2.cvtColor(img, cv2.COLOR_RGB2GRAY)\n",
    "# cv2.imshow('img',img)\n",
    "# cv2.waitKey(0)"
   ]
  },
  {
   "cell_type": "code",
   "execution_count": 6,
   "id": "3d235b24",
   "metadata": {},
   "outputs": [],
   "source": [
    "def load_data(path, test_split=0.1, width=IMG_COLS, height=IMG_ROW):\n",
    "    print ('loading dataset...')\n",
    "    y_train = []\n",
    "    y_test = []\n",
    "    x_train = []\n",
    "    x_test = []\n",
    "\n",
    "    # r=root, d=directories, f = files\n",
    "    counter = 0\n",
    "    for r, d, f in os.walk(path):\n",
    "        for fl in f:\n",
    "            if '.png' in fl:\n",
    "                flr = fl.split('_')[0]\n",
    "                counter += 1\n",
    "                label = np.zeros((NUM_OF_LETTERS, 10))\n",
    "                for i in range(NUM_OF_LETTERS):\n",
    "                    label[i, int(flr[i])] = 1\n",
    "\n",
    "                img = cv2.imread(os.path.join(r, fl),cv2.IMREAD_UNCHANGED)\n",
    "                img = cv2.cvtColor(img, cv2.COLOR_RGB2GRAY)\n",
    "                img = cv2.resize(img, (int(width/2), int(height/2)), interpolation=cv2.INTER_AREA)\n",
    "                img = np.reshape(img, (img.shape[0], img.shape[1], 1))\n",
    "\n",
    "                if random() < test_split:\n",
    "                    y_test.append(label)\n",
    "                    x_test.append(img)\n",
    "                else:\n",
    "                    y_train.append(label)\n",
    "                    x_train.append(img)\n",
    "\n",
    "    print('dataset size:', counter, '(train=%d, test=%d)' % (len(y_train), len(y_test)))\n",
    "    return np.array(x_train), np.array(y_train), np.array(x_test), np.array(y_test)"
   ]
  },
  {
   "cell_type": "code",
   "execution_count": 7,
   "id": "f63da598",
   "metadata": {},
   "outputs": [
    {
     "name": "stdout",
     "output_type": "stream",
     "text": [
      "loading dataset...\n",
      "dataset size: 14268 (train=12853, test=1415)\n"
     ]
    }
   ],
   "source": [
    "x_train, y_train, x_test, y_test = load_data(DATA_PATH)\n",
    "x_train = x_train.astype('float32')\n",
    "x_test = x_test.astype('float32')\n",
    "x_train /= 255\n",
    "x_test /= 255"
   ]
  },
  {
   "cell_type": "code",
   "execution_count": 8,
   "id": "6166e713",
   "metadata": {},
   "outputs": [
    {
     "name": "stdout",
     "output_type": "stream",
     "text": [
      "(12853, 25, 75, 1)\n",
      "(12853, 4, 10)\n",
      "(1415, 25, 75, 1)\n",
      "(1415, 4, 10)\n"
     ]
    }
   ],
   "source": [
    "print(x_train.shape)\n",
    "print(y_train.shape)\n",
    "print(x_test.shape)\n",
    "print(y_test.shape)"
   ]
  },
  {
   "cell_type": "code",
   "execution_count": 9,
   "id": "218a767b",
   "metadata": {},
   "outputs": [],
   "source": [
    "s_train = []\n",
    "s_test = []\n",
    "for i in range(NUM_OF_LETTERS):\n",
    "    s_train.append(y_train[:, i, :])\n",
    "    s_test.append(y_test[:, i, :])"
   ]
  },
  {
   "cell_type": "code",
   "execution_count": 10,
   "id": "01868f90",
   "metadata": {},
   "outputs": [],
   "source": [
    "save_dir = os.path.join(PATH, 'saved_models')\n",
    "model_name = 'keras_cifar10_trained_jpj_model.h5'"
   ]
  },
  {
   "cell_type": "code",
   "execution_count": 11,
   "id": "3f99071f",
   "metadata": {},
   "outputs": [],
   "source": [
    "input_layer = Input((int(IMG_ROW/2), int(IMG_COLS/2), 1))\n",
    "x = Conv2D(filters=32, kernel_size=(5, 5), padding='same', activation='relu')(input_layer)\n",
    "x = MaxPooling2D(pool_size=(2, 2))(x)\n",
    "\n",
    "x = Conv2D(filters=48, kernel_size=(5, 5), padding='same', activation='relu')(x)\n",
    "x = MaxPooling2D(pool_size=(2, 2))(x)\n",
    "\n",
    "x = Conv2D(filters=64, kernel_size=(5, 5), padding='same', activation='relu')(x)\n",
    "x = MaxPooling2D(pool_size=(2, 2))(x)\n",
    "\n",
    "x = Dropout(0.3)(x)\n",
    "x = Flatten()(x)\n",
    "x = Dense(512, activation='relu')(x)\n",
    "x = Dropout(0.3)(x)\n",
    "\n",
    "out = [Dense(10, name='digit%d' % i, activation='softmax')(x) for i in range(NUM_OF_LETTERS)]\n",
    "model = Model(inputs=input_layer, outputs=out)"
   ]
  },
  {
   "cell_type": "code",
   "execution_count": 12,
   "id": "40f3c867",
   "metadata": {},
   "outputs": [
    {
     "name": "stdout",
     "output_type": "stream",
     "text": [
      "Model: \"model\"\n",
      "__________________________________________________________________________________________________\n",
      "Layer (type)                    Output Shape         Param #     Connected to                     \n",
      "==================================================================================================\n",
      "input_1 (InputLayer)            [(None, 25, 75, 1)]  0                                            \n",
      "__________________________________________________________________________________________________\n",
      "conv2d (Conv2D)                 (None, 25, 75, 32)   832         input_1[0][0]                    \n",
      "__________________________________________________________________________________________________\n",
      "max_pooling2d (MaxPooling2D)    (None, 12, 37, 32)   0           conv2d[0][0]                     \n",
      "__________________________________________________________________________________________________\n",
      "conv2d_1 (Conv2D)               (None, 12, 37, 48)   38448       max_pooling2d[0][0]              \n",
      "__________________________________________________________________________________________________\n",
      "max_pooling2d_1 (MaxPooling2D)  (None, 6, 18, 48)    0           conv2d_1[0][0]                   \n",
      "__________________________________________________________________________________________________\n",
      "conv2d_2 (Conv2D)               (None, 6, 18, 64)    76864       max_pooling2d_1[0][0]            \n",
      "__________________________________________________________________________________________________\n",
      "max_pooling2d_2 (MaxPooling2D)  (None, 3, 9, 64)     0           conv2d_2[0][0]                   \n",
      "__________________________________________________________________________________________________\n",
      "dropout (Dropout)               (None, 3, 9, 64)     0           max_pooling2d_2[0][0]            \n",
      "__________________________________________________________________________________________________\n",
      "flatten (Flatten)               (None, 1728)         0           dropout[0][0]                    \n",
      "__________________________________________________________________________________________________\n",
      "dense (Dense)                   (None, 512)          885248      flatten[0][0]                    \n",
      "__________________________________________________________________________________________________\n",
      "dropout_1 (Dropout)             (None, 512)          0           dense[0][0]                      \n",
      "__________________________________________________________________________________________________\n",
      "digit0 (Dense)                  (None, 10)           5130        dropout_1[0][0]                  \n",
      "__________________________________________________________________________________________________\n",
      "digit1 (Dense)                  (None, 10)           5130        dropout_1[0][0]                  \n",
      "__________________________________________________________________________________________________\n",
      "digit2 (Dense)                  (None, 10)           5130        dropout_1[0][0]                  \n",
      "__________________________________________________________________________________________________\n",
      "digit3 (Dense)                  (None, 10)           5130        dropout_1[0][0]                  \n",
      "==================================================================================================\n",
      "Total params: 1,021,912\n",
      "Trainable params: 1,021,912\n",
      "Non-trainable params: 0\n",
      "__________________________________________________________________________________________________\n"
     ]
    }
   ],
   "source": [
    "# initiate Adam optimizer\n",
    "\n",
    "model.compile(loss='binary_crossentropy',\n",
    "              optimizer='adam',\n",
    "              metrics=['accuracy'])\n",
    "\n",
    "\n",
    "model.summary() "
   ]
  },
  {
   "cell_type": "code",
   "execution_count": 13,
   "id": "23b03ccb",
   "metadata": {},
   "outputs": [],
   "source": [
    "hist_train_loss_digit = {i:[] for i in range(NUM_OF_LETTERS)}\n",
    "hist_test_loss_digit = {i:[] for i in range(NUM_OF_LETTERS)}\n",
    "\n",
    "hist_train_acc_digit = {i:[] for i in range(NUM_OF_LETTERS)}\n",
    "hist_test_acc_digit = {i:[] for i in range(NUM_OF_LETTERS)}\n",
    "\n",
    "hist_train_loss = []\n",
    "hist_test_loss = []\n",
    "\n",
    "hist_train_acc = []\n",
    "hist_test_acc = []"
   ]
  },
  {
   "cell_type": "code",
   "execution_count": 14,
   "id": "6ab61870",
   "metadata": {},
   "outputs": [],
   "source": [
    "digit_acc = [[] for _ in range(NUM_OF_LETTERS)]\n",
    "val_digit_acc = [[] for _ in range(NUM_OF_LETTERS)]\n",
    "loss = []\n",
    "val_loss = []"
   ]
  },
  {
   "cell_type": "code",
   "execution_count": 15,
   "id": "4f6b1ef3",
   "metadata": {},
   "outputs": [
    {
     "name": "stdout",
     "output_type": "stream",
     "text": [
      "Epoch 1/50\n",
      "101/101 [==============================] - 17s 35ms/step - loss: 1.5681 - digit0_loss: 0.3920 - digit1_loss: 0.3921 - digit2_loss: 0.3927 - digit3_loss: 0.3913 - digit0_accuracy: 0.1104 - digit1_accuracy: 0.0988 - digit2_accuracy: 0.1019 - digit3_accuracy: 0.1050 - val_loss: 1.3017 - val_digit0_loss: 0.3248 - val_digit1_loss: 0.3255 - val_digit2_loss: 0.3259 - val_digit3_loss: 0.3255 - val_digit0_accuracy: 0.1081 - val_digit1_accuracy: 0.1237 - val_digit2_accuracy: 0.1166 - val_digit3_accuracy: 0.0996\n",
      "Epoch 2/50\n",
      "101/101 [==============================] - 2s 25ms/step - loss: 1.3154 - digit0_loss: 0.3286 - digit1_loss: 0.3284 - digit2_loss: 0.3289 - digit3_loss: 0.3295 - digit0_accuracy: 0.1123 - digit1_accuracy: 0.1086 - digit2_accuracy: 0.1059 - digit3_accuracy: 0.0997 - val_loss: 1.2997 - val_digit0_loss: 0.3247 - val_digit1_loss: 0.3247 - val_digit2_loss: 0.3249 - val_digit3_loss: 0.3254 - val_digit0_accuracy: 0.1159 - val_digit1_accuracy: 0.1223 - val_digit2_accuracy: 0.1322 - val_digit3_accuracy: 0.1039\n",
      "Epoch 3/50\n",
      "101/101 [==============================] - 3s 25ms/step - loss: 1.2969 - digit0_loss: 0.3253 - digit1_loss: 0.3239 - digit2_loss: 0.3235 - digit3_loss: 0.3241 - digit0_accuracy: 0.1325 - digit1_accuracy: 0.1335 - digit2_accuracy: 0.1379 - digit3_accuracy: 0.1292 - val_loss: 1.1839 - val_digit0_loss: 0.3049 - val_digit1_loss: 0.2961 - val_digit2_loss: 0.2928 - val_digit3_loss: 0.2901 - val_digit0_accuracy: 0.2410 - val_digit1_accuracy: 0.2841 - val_digit2_accuracy: 0.3110 - val_digit3_accuracy: 0.2820\n",
      "Epoch 4/50\n",
      "101/101 [==============================] - 3s 25ms/step - loss: 1.1455 - digit0_loss: 0.2949 - digit1_loss: 0.2886 - digit2_loss: 0.2870 - digit3_loss: 0.2749 - digit0_accuracy: 0.2766 - digit1_accuracy: 0.2900 - digit2_accuracy: 0.2953 - digit3_accuracy: 0.3383 - val_loss: 0.8950 - val_digit0_loss: 0.2280 - val_digit1_loss: 0.2393 - val_digit2_loss: 0.2315 - val_digit3_loss: 0.1963 - val_digit0_accuracy: 0.5541 - val_digit1_accuracy: 0.4926 - val_digit2_accuracy: 0.5293 - val_digit3_accuracy: 0.6707\n",
      "Epoch 5/50\n",
      "101/101 [==============================] - 3s 25ms/step - loss: 0.8565 - digit0_loss: 0.2146 - digit1_loss: 0.2341 - digit2_loss: 0.2286 - digit3_loss: 0.1791 - digit0_accuracy: 0.5599 - digit1_accuracy: 0.4744 - digit2_accuracy: 0.5045 - digit3_accuracy: 0.6763 - val_loss: 0.5851 - val_digit0_loss: 0.1417 - val_digit1_loss: 0.1798 - val_digit2_loss: 0.1657 - val_digit3_loss: 0.0979 - val_digit0_accuracy: 0.7830 - val_digit1_accuracy: 0.6445 - val_digit2_accuracy: 0.6954 - val_digit3_accuracy: 0.8848\n",
      "Epoch 6/50\n",
      "101/101 [==============================] - 3s 25ms/step - loss: 0.5885 - digit0_loss: 0.1430 - digit1_loss: 0.1734 - digit2_loss: 0.1705 - digit3_loss: 0.1016 - digit0_accuracy: 0.7640 - digit1_accuracy: 0.6512 - digit2_accuracy: 0.6746 - digit3_accuracy: 0.8616 - val_loss: 0.3379 - val_digit0_loss: 0.0779 - val_digit1_loss: 0.1093 - val_digit2_loss: 0.1035 - val_digit3_loss: 0.0472 - val_digit0_accuracy: 0.9110 - val_digit1_accuracy: 0.8367 - val_digit2_accuracy: 0.8502 - val_digit3_accuracy: 0.9611\n",
      "Epoch 7/50\n",
      "101/101 [==============================] - 3s 25ms/step - loss: 0.4000 - digit0_loss: 0.0931 - digit1_loss: 0.1233 - digit2_loss: 0.1205 - digit3_loss: 0.0632 - digit0_accuracy: 0.8738 - digit1_accuracy: 0.7951 - digit2_accuracy: 0.8042 - digit3_accuracy: 0.9309 - val_loss: 0.2115 - val_digit0_loss: 0.0452 - val_digit1_loss: 0.0744 - val_digit2_loss: 0.0632 - val_digit3_loss: 0.0287 - val_digit0_accuracy: 0.9555 - val_digit1_accuracy: 0.9004 - val_digit2_accuracy: 0.9336 - val_digit3_accuracy: 0.9781\n",
      "Epoch 8/50\n",
      "101/101 [==============================] - 3s 25ms/step - loss: 0.2843 - digit0_loss: 0.0626 - digit1_loss: 0.0903 - digit2_loss: 0.0858 - digit3_loss: 0.0456 - digit0_accuracy: 0.9252 - digit1_accuracy: 0.8723 - digit2_accuracy: 0.8876 - digit3_accuracy: 0.9513 - val_loss: 0.1335 - val_digit0_loss: 0.0308 - val_digit1_loss: 0.0464 - val_digit2_loss: 0.0394 - val_digit3_loss: 0.0169 - val_digit0_accuracy: 0.9753 - val_digit1_accuracy: 0.9491 - val_digit2_accuracy: 0.9724 - val_digit3_accuracy: 0.9894\n",
      "Epoch 9/50\n",
      "101/101 [==============================] - 3s 25ms/step - loss: 0.2168 - digit0_loss: 0.0492 - digit1_loss: 0.0684 - digit2_loss: 0.0633 - digit3_loss: 0.0358 - digit0_accuracy: 0.9437 - digit1_accuracy: 0.9129 - digit2_accuracy: 0.9256 - digit3_accuracy: 0.9702 - val_loss: 0.1008 - val_digit0_loss: 0.0237 - val_digit1_loss: 0.0350 - val_digit2_loss: 0.0280 - val_digit3_loss: 0.0141 - val_digit0_accuracy: 0.9802 - val_digit1_accuracy: 0.9661 - val_digit2_accuracy: 0.9852 - val_digit3_accuracy: 0.9922\n",
      "Epoch 10/50\n",
      "101/101 [==============================] - 3s 25ms/step - loss: 0.1712 - digit0_loss: 0.0391 - digit1_loss: 0.0532 - digit2_loss: 0.0503 - digit3_loss: 0.0286 - digit0_accuracy: 0.9598 - digit1_accuracy: 0.9391 - digit2_accuracy: 0.9506 - digit3_accuracy: 0.9757 - val_loss: 0.0731 - val_digit0_loss: 0.0181 - val_digit1_loss: 0.0255 - val_digit2_loss: 0.0205 - val_digit3_loss: 0.0090 - val_digit0_accuracy: 0.9873 - val_digit1_accuracy: 0.9781 - val_digit2_accuracy: 0.9915 - val_digit3_accuracy: 0.9929\n",
      "Epoch 11/50\n",
      "101/101 [==============================] - 2s 25ms/step - loss: 0.1379 - digit0_loss: 0.0304 - digit1_loss: 0.0420 - digit2_loss: 0.0408 - digit3_loss: 0.0246 - digit0_accuracy: 0.9730 - digit1_accuracy: 0.9595 - digit2_accuracy: 0.9618 - digit3_accuracy: 0.9804 - val_loss: 0.0557 - val_digit0_loss: 0.0140 - val_digit1_loss: 0.0193 - val_digit2_loss: 0.0157 - val_digit3_loss: 0.0066 - val_digit0_accuracy: 0.9901 - val_digit1_accuracy: 0.9845 - val_digit2_accuracy: 0.9943 - val_digit3_accuracy: 0.9951\n",
      "Epoch 12/50\n",
      "101/101 [==============================] - 2s 25ms/step - loss: 0.1174 - digit0_loss: 0.0260 - digit1_loss: 0.0369 - digit2_loss: 0.0343 - digit3_loss: 0.0202 - digit0_accuracy: 0.9777 - digit1_accuracy: 0.9624 - digit2_accuracy: 0.9696 - digit3_accuracy: 0.9841 - val_loss: 0.0447 - val_digit0_loss: 0.0104 - val_digit1_loss: 0.0154 - val_digit2_loss: 0.0133 - val_digit3_loss: 0.0056 - val_digit0_accuracy: 0.9915 - val_digit1_accuracy: 0.9887 - val_digit2_accuracy: 0.9943 - val_digit3_accuracy: 0.9958\n",
      "Epoch 13/50\n",
      "101/101 [==============================] - 3s 25ms/step - loss: 0.1000 - digit0_loss: 0.0219 - digit1_loss: 0.0309 - digit2_loss: 0.0295 - digit3_loss: 0.0176 - digit0_accuracy: 0.9832 - digit1_accuracy: 0.9744 - digit2_accuracy: 0.9758 - digit3_accuracy: 0.9885 - val_loss: 0.0383 - val_digit0_loss: 0.0089 - val_digit1_loss: 0.0140 - val_digit2_loss: 0.0103 - val_digit3_loss: 0.0050 - val_digit0_accuracy: 0.9908 - val_digit1_accuracy: 0.9894 - val_digit2_accuracy: 0.9958 - val_digit3_accuracy: 0.9951\n",
      "Epoch 14/50\n",
      "101/101 [==============================] - 3s 25ms/step - loss: 0.0833 - digit0_loss: 0.0188 - digit1_loss: 0.0256 - digit2_loss: 0.0241 - digit3_loss: 0.0148 - digit0_accuracy: 0.9877 - digit1_accuracy: 0.9793 - digit2_accuracy: 0.9805 - digit3_accuracy: 0.9892 - val_loss: 0.0309 - val_digit0_loss: 0.0080 - val_digit1_loss: 0.0111 - val_digit2_loss: 0.0076 - val_digit3_loss: 0.0042 - val_digit0_accuracy: 0.9936 - val_digit1_accuracy: 0.9915 - val_digit2_accuracy: 0.9972 - val_digit3_accuracy: 0.9951\n",
      "Epoch 15/50\n",
      "101/101 [==============================] - 3s 25ms/step - loss: 0.0740 - digit0_loss: 0.0160 - digit1_loss: 0.0223 - digit2_loss: 0.0220 - digit3_loss: 0.0136 - digit0_accuracy: 0.9893 - digit1_accuracy: 0.9851 - digit2_accuracy: 0.9852 - digit3_accuracy: 0.9906 - val_loss: 0.0280 - val_digit0_loss: 0.0077 - val_digit1_loss: 0.0104 - val_digit2_loss: 0.0064 - val_digit3_loss: 0.0035 - val_digit0_accuracy: 0.9951 - val_digit1_accuracy: 0.9929 - val_digit2_accuracy: 0.9986 - val_digit3_accuracy: 0.9958\n",
      "Epoch 16/50\n",
      "101/101 [==============================] - 2s 25ms/step - loss: 0.0653 - digit0_loss: 0.0148 - digit1_loss: 0.0193 - digit2_loss: 0.0195 - digit3_loss: 0.0117 - digit0_accuracy: 0.9899 - digit1_accuracy: 0.9893 - digit2_accuracy: 0.9872 - digit3_accuracy: 0.9919 - val_loss: 0.0255 - val_digit0_loss: 0.0071 - val_digit1_loss: 0.0089 - val_digit2_loss: 0.0064 - val_digit3_loss: 0.0031 - val_digit0_accuracy: 0.9936 - val_digit1_accuracy: 0.9929 - val_digit2_accuracy: 0.9972 - val_digit3_accuracy: 0.9979\n"
     ]
    },
    {
     "name": "stdout",
     "output_type": "stream",
     "text": [
      "Epoch 17/50\n",
      "101/101 [==============================] - 3s 25ms/step - loss: 0.0609 - digit0_loss: 0.0139 - digit1_loss: 0.0194 - digit2_loss: 0.0169 - digit3_loss: 0.0107 - digit0_accuracy: 0.9899 - digit1_accuracy: 0.9863 - digit2_accuracy: 0.9902 - digit3_accuracy: 0.9924 - val_loss: 0.0233 - val_digit0_loss: 0.0072 - val_digit1_loss: 0.0084 - val_digit2_loss: 0.0050 - val_digit3_loss: 0.0027 - val_digit0_accuracy: 0.9943 - val_digit1_accuracy: 0.9936 - val_digit2_accuracy: 0.9979 - val_digit3_accuracy: 0.9979\n",
      "Epoch 18/50\n",
      "101/101 [==============================] - 2s 24ms/step - loss: 0.0523 - digit0_loss: 0.0117 - digit1_loss: 0.0159 - digit2_loss: 0.0152 - digit3_loss: 0.0095 - digit0_accuracy: 0.9922 - digit1_accuracy: 0.9888 - digit2_accuracy: 0.9929 - digit3_accuracy: 0.9961 - val_loss: 0.0203 - val_digit0_loss: 0.0052 - val_digit1_loss: 0.0078 - val_digit2_loss: 0.0048 - val_digit3_loss: 0.0025 - val_digit0_accuracy: 0.9965 - val_digit1_accuracy: 0.9922 - val_digit2_accuracy: 0.9986 - val_digit3_accuracy: 0.9979\n",
      "Epoch 19/50\n",
      "101/101 [==============================] - 2s 24ms/step - loss: 0.0493 - digit0_loss: 0.0106 - digit1_loss: 0.0146 - digit2_loss: 0.0150 - digit3_loss: 0.0091 - digit0_accuracy: 0.9934 - digit1_accuracy: 0.9903 - digit2_accuracy: 0.9898 - digit3_accuracy: 0.9946 - val_loss: 0.0197 - val_digit0_loss: 0.0057 - val_digit1_loss: 0.0072 - val_digit2_loss: 0.0045 - val_digit3_loss: 0.0022 - val_digit0_accuracy: 0.9943 - val_digit1_accuracy: 0.9908 - val_digit2_accuracy: 0.9986 - val_digit3_accuracy: 0.9979\n",
      "Epoch 20/50\n",
      "101/101 [==============================] - 2s 24ms/step - loss: 0.0466 - digit0_loss: 0.0106 - digit1_loss: 0.0132 - digit2_loss: 0.0139 - digit3_loss: 0.0089 - digit0_accuracy: 0.9950 - digit1_accuracy: 0.9923 - digit2_accuracy: 0.9922 - digit3_accuracy: 0.9950 - val_loss: 0.0186 - val_digit0_loss: 0.0058 - val_digit1_loss: 0.0064 - val_digit2_loss: 0.0040 - val_digit3_loss: 0.0024 - val_digit0_accuracy: 0.9951 - val_digit1_accuracy: 0.9922 - val_digit2_accuracy: 0.9993 - val_digit3_accuracy: 0.9979\n",
      "Epoch 21/50\n",
      "101/101 [==============================] - 2s 24ms/step - loss: 0.0419 - digit0_loss: 0.0091 - digit1_loss: 0.0115 - digit2_loss: 0.0124 - digit3_loss: 0.0089 - digit0_accuracy: 0.9948 - digit1_accuracy: 0.9944 - digit2_accuracy: 0.9943 - digit3_accuracy: 0.9932 - val_loss: 0.0161 - val_digit0_loss: 0.0043 - val_digit1_loss: 0.0062 - val_digit2_loss: 0.0039 - val_digit3_loss: 0.0016 - val_digit0_accuracy: 0.9958 - val_digit1_accuracy: 0.9936 - val_digit2_accuracy: 0.9986 - val_digit3_accuracy: 0.9986\n",
      "Epoch 22/50\n",
      "101/101 [==============================] - 2s 24ms/step - loss: 0.0378 - digit0_loss: 0.0083 - digit1_loss: 0.0113 - digit2_loss: 0.0113 - digit3_loss: 0.0069 - digit0_accuracy: 0.9954 - digit1_accuracy: 0.9944 - digit2_accuracy: 0.9951 - digit3_accuracy: 0.9966 - val_loss: 0.0149 - val_digit0_loss: 0.0043 - val_digit1_loss: 0.0058 - val_digit2_loss: 0.0031 - val_digit3_loss: 0.0016 - val_digit0_accuracy: 0.9958 - val_digit1_accuracy: 0.9929 - val_digit2_accuracy: 0.9986 - val_digit3_accuracy: 1.0000\n",
      "Epoch 23/50\n",
      "101/101 [==============================] - 3s 25ms/step - loss: 0.0374 - digit0_loss: 0.0079 - digit1_loss: 0.0112 - digit2_loss: 0.0113 - digit3_loss: 0.0070 - digit0_accuracy: 0.9953 - digit1_accuracy: 0.9951 - digit2_accuracy: 0.9942 - digit3_accuracy: 0.9962 - val_loss: 0.0148 - val_digit0_loss: 0.0041 - val_digit1_loss: 0.0054 - val_digit2_loss: 0.0031 - val_digit3_loss: 0.0023 - val_digit0_accuracy: 0.9965 - val_digit1_accuracy: 0.9951 - val_digit2_accuracy: 0.9979 - val_digit3_accuracy: 0.9958\n",
      "Epoch 24/50\n",
      "101/101 [==============================] - 3s 25ms/step - loss: 0.0331 - digit0_loss: 0.0072 - digit1_loss: 0.0098 - digit2_loss: 0.0104 - digit3_loss: 0.0058 - digit0_accuracy: 0.9969 - digit1_accuracy: 0.9954 - digit2_accuracy: 0.9964 - digit3_accuracy: 0.9983 - val_loss: 0.0140 - val_digit0_loss: 0.0038 - val_digit1_loss: 0.0053 - val_digit2_loss: 0.0028 - val_digit3_loss: 0.0020 - val_digit0_accuracy: 0.9958 - val_digit1_accuracy: 0.9965 - val_digit2_accuracy: 0.9993 - val_digit3_accuracy: 0.9979\n",
      "Epoch 25/50\n",
      "101/101 [==============================] - 3s 25ms/step - loss: 0.0333 - digit0_loss: 0.0074 - digit1_loss: 0.0097 - digit2_loss: 0.0098 - digit3_loss: 0.0063 - digit0_accuracy: 0.9972 - digit1_accuracy: 0.9936 - digit2_accuracy: 0.9969 - digit3_accuracy: 0.9953 - val_loss: 0.0128 - val_digit0_loss: 0.0035 - val_digit1_loss: 0.0046 - val_digit2_loss: 0.0027 - val_digit3_loss: 0.0019 - val_digit0_accuracy: 0.9965 - val_digit1_accuracy: 0.9965 - val_digit2_accuracy: 0.9979 - val_digit3_accuracy: 0.9972\n",
      "Epoch 26/50\n",
      "101/101 [==============================] - 2s 25ms/step - loss: 0.0302 - digit0_loss: 0.0070 - digit1_loss: 0.0089 - digit2_loss: 0.0086 - digit3_loss: 0.0057 - digit0_accuracy: 0.9968 - digit1_accuracy: 0.9953 - digit2_accuracy: 0.9963 - digit3_accuracy: 0.9967 - val_loss: 0.0119 - val_digit0_loss: 0.0036 - val_digit1_loss: 0.0046 - val_digit2_loss: 0.0023 - val_digit3_loss: 0.0014 - val_digit0_accuracy: 0.9958 - val_digit1_accuracy: 0.9965 - val_digit2_accuracy: 0.9993 - val_digit3_accuracy: 0.9993\n",
      "Epoch 27/50\n",
      "101/101 [==============================] - 3s 25ms/step - loss: 0.0287 - digit0_loss: 0.0066 - digit1_loss: 0.0082 - digit2_loss: 0.0085 - digit3_loss: 0.0054 - digit0_accuracy: 0.9971 - digit1_accuracy: 0.9955 - digit2_accuracy: 0.9968 - digit3_accuracy: 0.9968 - val_loss: 0.0110 - val_digit0_loss: 0.0029 - val_digit1_loss: 0.0039 - val_digit2_loss: 0.0026 - val_digit3_loss: 0.0015 - val_digit0_accuracy: 0.9972 - val_digit1_accuracy: 0.9979 - val_digit2_accuracy: 1.0000 - val_digit3_accuracy: 0.9993\n",
      "Epoch 28/50\n",
      "101/101 [==============================] - 3s 25ms/step - loss: 0.0287 - digit0_loss: 0.0057 - digit1_loss: 0.0093 - digit2_loss: 0.0084 - digit3_loss: 0.0053 - digit0_accuracy: 0.9968 - digit1_accuracy: 0.9951 - digit2_accuracy: 0.9964 - digit3_accuracy: 0.9972 - val_loss: 0.0098 - val_digit0_loss: 0.0030 - val_digit1_loss: 0.0037 - val_digit2_loss: 0.0023 - val_digit3_loss: 8.3601e-04 - val_digit0_accuracy: 0.9965 - val_digit1_accuracy: 0.9986 - val_digit2_accuracy: 0.9993 - val_digit3_accuracy: 1.0000\n",
      "Epoch 29/50\n",
      "101/101 [==============================] - 3s 25ms/step - loss: 0.0258 - digit0_loss: 0.0059 - digit1_loss: 0.0072 - digit2_loss: 0.0077 - digit3_loss: 0.0050 - digit0_accuracy: 0.9976 - digit1_accuracy: 0.9977 - digit2_accuracy: 0.9978 - digit3_accuracy: 0.9982 - val_loss: 0.0097 - val_digit0_loss: 0.0028 - val_digit1_loss: 0.0041 - val_digit2_loss: 0.0018 - val_digit3_loss: 9.1906e-04 - val_digit0_accuracy: 0.9965 - val_digit1_accuracy: 0.9965 - val_digit2_accuracy: 1.0000 - val_digit3_accuracy: 0.9993\n",
      "Epoch 30/50\n",
      "101/101 [==============================] - 2s 25ms/step - loss: 0.0263 - digit0_loss: 0.0053 - digit1_loss: 0.0083 - digit2_loss: 0.0074 - digit3_loss: 0.0053 - digit0_accuracy: 0.9981 - digit1_accuracy: 0.9961 - digit2_accuracy: 0.9968 - digit3_accuracy: 0.9974 - val_loss: 0.0097 - val_digit0_loss: 0.0026 - val_digit1_loss: 0.0043 - val_digit2_loss: 0.0018 - val_digit3_loss: 0.0010 - val_digit0_accuracy: 0.9979 - val_digit1_accuracy: 0.9958 - val_digit2_accuracy: 0.9993 - val_digit3_accuracy: 0.9986\n",
      "Epoch 31/50\n",
      "101/101 [==============================] - 3s 25ms/step - loss: 0.0245 - digit0_loss: 0.0050 - digit1_loss: 0.0073 - digit2_loss: 0.0069 - digit3_loss: 0.0053 - digit0_accuracy: 0.9973 - digit1_accuracy: 0.9972 - digit2_accuracy: 0.9982 - digit3_accuracy: 0.9978 - val_loss: 0.0090 - val_digit0_loss: 0.0026 - val_digit1_loss: 0.0034 - val_digit2_loss: 0.0021 - val_digit3_loss: 9.3990e-04 - val_digit0_accuracy: 0.9986 - val_digit1_accuracy: 0.9979 - val_digit2_accuracy: 0.9993 - val_digit3_accuracy: 0.9986\n",
      "Epoch 32/50\n",
      "101/101 [==============================] - 3s 25ms/step - loss: 0.0242 - digit0_loss: 0.0056 - digit1_loss: 0.0072 - digit2_loss: 0.0072 - digit3_loss: 0.0042 - digit0_accuracy: 0.9972 - digit1_accuracy: 0.9963 - digit2_accuracy: 0.9971 - digit3_accuracy: 0.9986 - val_loss: 0.0109 - val_digit0_loss: 0.0031 - val_digit1_loss: 0.0036 - val_digit2_loss: 0.0025 - val_digit3_loss: 0.0017 - val_digit0_accuracy: 0.9965 - val_digit1_accuracy: 0.9979 - val_digit2_accuracy: 0.9979 - val_digit3_accuracy: 0.9979\n"
     ]
    },
    {
     "name": "stdout",
     "output_type": "stream",
     "text": [
      "Epoch 33/50\n",
      "101/101 [==============================] - 2s 24ms/step - loss: 0.0218 - digit0_loss: 0.0045 - digit1_loss: 0.0070 - digit2_loss: 0.0066 - digit3_loss: 0.0037 - digit0_accuracy: 0.9979 - digit1_accuracy: 0.9975 - digit2_accuracy: 0.9971 - digit3_accuracy: 0.9993 - val_loss: 0.0083 - val_digit0_loss: 0.0021 - val_digit1_loss: 0.0028 - val_digit2_loss: 0.0025 - val_digit3_loss: 9.2161e-04 - val_digit0_accuracy: 0.9986 - val_digit1_accuracy: 0.9979 - val_digit2_accuracy: 0.9993 - val_digit3_accuracy: 0.9993\n",
      "Epoch 34/50\n",
      "101/101 [==============================] - 2s 24ms/step - loss: 0.0200 - digit0_loss: 0.0044 - digit1_loss: 0.0064 - digit2_loss: 0.0058 - digit3_loss: 0.0033 - digit0_accuracy: 0.9975 - digit1_accuracy: 0.9972 - digit2_accuracy: 0.9978 - digit3_accuracy: 0.9986 - val_loss: 0.0086 - val_digit0_loss: 0.0022 - val_digit1_loss: 0.0036 - val_digit2_loss: 0.0017 - val_digit3_loss: 9.7621e-04 - val_digit0_accuracy: 0.9986 - val_digit1_accuracy: 0.9979 - val_digit2_accuracy: 1.0000 - val_digit3_accuracy: 0.9993\n",
      "Epoch 35/50\n",
      "101/101 [==============================] - 2s 25ms/step - loss: 0.0207 - digit0_loss: 0.0046 - digit1_loss: 0.0063 - digit2_loss: 0.0059 - digit3_loss: 0.0040 - digit0_accuracy: 0.9979 - digit1_accuracy: 0.9971 - digit2_accuracy: 0.9984 - digit3_accuracy: 0.9977 - val_loss: 0.0087 - val_digit0_loss: 0.0020 - val_digit1_loss: 0.0037 - val_digit2_loss: 0.0018 - val_digit3_loss: 0.0012 - val_digit0_accuracy: 0.9993 - val_digit1_accuracy: 0.9979 - val_digit2_accuracy: 1.0000 - val_digit3_accuracy: 0.9986\n",
      "Epoch 36/50\n",
      "101/101 [==============================] - 2s 25ms/step - loss: 0.0203 - digit0_loss: 0.0044 - digit1_loss: 0.0064 - digit2_loss: 0.0058 - digit3_loss: 0.0036 - digit0_accuracy: 0.9979 - digit1_accuracy: 0.9967 - digit2_accuracy: 0.9982 - digit3_accuracy: 0.9982 - val_loss: 0.0091 - val_digit0_loss: 0.0024 - val_digit1_loss: 0.0034 - val_digit2_loss: 0.0024 - val_digit3_loss: 0.0010 - val_digit0_accuracy: 0.9986 - val_digit1_accuracy: 0.9965 - val_digit2_accuracy: 1.0000 - val_digit3_accuracy: 0.9993\n",
      "Epoch 37/50\n",
      "101/101 [==============================] - 2s 25ms/step - loss: 0.0176 - digit0_loss: 0.0040 - digit1_loss: 0.0053 - digit2_loss: 0.0051 - digit3_loss: 0.0032 - digit0_accuracy: 0.9990 - digit1_accuracy: 0.9980 - digit2_accuracy: 0.9987 - digit3_accuracy: 0.9993 - val_loss: 0.0078 - val_digit0_loss: 0.0019 - val_digit1_loss: 0.0036 - val_digit2_loss: 0.0016 - val_digit3_loss: 7.5447e-04 - val_digit0_accuracy: 0.9979 - val_digit1_accuracy: 0.9979 - val_digit2_accuracy: 0.9993 - val_digit3_accuracy: 0.9986\n",
      "Epoch 38/50\n",
      "101/101 [==============================] - 2s 24ms/step - loss: 0.0180 - digit0_loss: 0.0037 - digit1_loss: 0.0049 - digit2_loss: 0.0060 - digit3_loss: 0.0035 - digit0_accuracy: 0.9984 - digit1_accuracy: 0.9983 - digit2_accuracy: 0.9975 - digit3_accuracy: 0.9984 - val_loss: 0.0089 - val_digit0_loss: 0.0021 - val_digit1_loss: 0.0036 - val_digit2_loss: 0.0022 - val_digit3_loss: 0.0010 - val_digit0_accuracy: 0.9979 - val_digit1_accuracy: 0.9972 - val_digit2_accuracy: 0.9986 - val_digit3_accuracy: 0.9993\n",
      "Epoch 39/50\n",
      "101/101 [==============================] - 3s 25ms/step - loss: 0.0187 - digit0_loss: 0.0045 - digit1_loss: 0.0054 - digit2_loss: 0.0050 - digit3_loss: 0.0037 - digit0_accuracy: 0.9979 - digit1_accuracy: 0.9975 - digit2_accuracy: 0.9981 - digit3_accuracy: 0.9986 - val_loss: 0.0071 - val_digit0_loss: 0.0016 - val_digit1_loss: 0.0027 - val_digit2_loss: 0.0018 - val_digit3_loss: 0.0010 - val_digit0_accuracy: 0.9986 - val_digit1_accuracy: 0.9979 - val_digit2_accuracy: 1.0000 - val_digit3_accuracy: 0.9993\n",
      "Epoch 40/50\n",
      "101/101 [==============================] - 3s 25ms/step - loss: 0.0174 - digit0_loss: 0.0035 - digit1_loss: 0.0061 - digit2_loss: 0.0051 - digit3_loss: 0.0028 - digit0_accuracy: 0.9992 - digit1_accuracy: 0.9971 - digit2_accuracy: 0.9986 - digit3_accuracy: 0.9991 - val_loss: 0.0069 - val_digit0_loss: 0.0022 - val_digit1_loss: 0.0028 - val_digit2_loss: 0.0014 - val_digit3_loss: 4.9791e-04 - val_digit0_accuracy: 0.9972 - val_digit1_accuracy: 0.9979 - val_digit2_accuracy: 0.9993 - val_digit3_accuracy: 0.9993\n",
      "Epoch 41/50\n",
      "101/101 [==============================] - 3s 25ms/step - loss: 0.0180 - digit0_loss: 0.0037 - digit1_loss: 0.0058 - digit2_loss: 0.0056 - digit3_loss: 0.0029 - digit0_accuracy: 0.9988 - digit1_accuracy: 0.9978 - digit2_accuracy: 0.9989 - digit3_accuracy: 0.9988 - val_loss: 0.0069 - val_digit0_loss: 0.0017 - val_digit1_loss: 0.0029 - val_digit2_loss: 0.0018 - val_digit3_loss: 5.0311e-04 - val_digit0_accuracy: 0.9979 - val_digit1_accuracy: 0.9972 - val_digit2_accuracy: 0.9993 - val_digit3_accuracy: 1.0000\n",
      "Epoch 42/50\n",
      "101/101 [==============================] - 3s 25ms/step - loss: 0.0171 - digit0_loss: 0.0035 - digit1_loss: 0.0054 - digit2_loss: 0.0051 - digit3_loss: 0.0031 - digit0_accuracy: 0.9993 - digit1_accuracy: 0.9975 - digit2_accuracy: 0.9978 - digit3_accuracy: 0.9973 - val_loss: 0.0066 - val_digit0_loss: 0.0015 - val_digit1_loss: 0.0029 - val_digit2_loss: 0.0015 - val_digit3_loss: 8.0111e-04 - val_digit0_accuracy: 0.9986 - val_digit1_accuracy: 0.9972 - val_digit2_accuracy: 0.9986 - val_digit3_accuracy: 0.9993\n",
      "Epoch 43/50\n",
      "101/101 [==============================] - 2s 25ms/step - loss: 0.0154 - digit0_loss: 0.0033 - digit1_loss: 0.0043 - digit2_loss: 0.0050 - digit3_loss: 0.0028 - digit0_accuracy: 0.9988 - digit1_accuracy: 0.9990 - digit2_accuracy: 0.9980 - digit3_accuracy: 0.9992 - val_loss: 0.0061 - val_digit0_loss: 0.0016 - val_digit1_loss: 0.0024 - val_digit2_loss: 0.0015 - val_digit3_loss: 5.6860e-04 - val_digit0_accuracy: 0.9986 - val_digit1_accuracy: 0.9986 - val_digit2_accuracy: 1.0000 - val_digit3_accuracy: 0.9993\n",
      "Epoch 44/50\n",
      "101/101 [==============================] - 2s 24ms/step - loss: 0.0152 - digit0_loss: 0.0029 - digit1_loss: 0.0048 - digit2_loss: 0.0046 - digit3_loss: 0.0029 - digit0_accuracy: 0.9991 - digit1_accuracy: 0.9982 - digit2_accuracy: 0.9989 - digit3_accuracy: 0.9986 - val_loss: 0.0064 - val_digit0_loss: 0.0016 - val_digit1_loss: 0.0029 - val_digit2_loss: 0.0011 - val_digit3_loss: 7.5902e-04 - val_digit0_accuracy: 0.9993 - val_digit1_accuracy: 0.9965 - val_digit2_accuracy: 0.9993 - val_digit3_accuracy: 1.0000\n",
      "Epoch 45/50\n",
      "101/101 [==============================] - 2s 25ms/step - loss: 0.0173 - digit0_loss: 0.0038 - digit1_loss: 0.0056 - digit2_loss: 0.0045 - digit3_loss: 0.0034 - digit0_accuracy: 0.9983 - digit1_accuracy: 0.9984 - digit2_accuracy: 0.9983 - digit3_accuracy: 0.9990 - val_loss: 0.0070 - val_digit0_loss: 0.0024 - val_digit1_loss: 0.0026 - val_digit2_loss: 0.0015 - val_digit3_loss: 5.0144e-04 - val_digit0_accuracy: 0.9972 - val_digit1_accuracy: 0.9979 - val_digit2_accuracy: 0.9986 - val_digit3_accuracy: 1.0000\n",
      "Epoch 46/50\n",
      "101/101 [==============================] - 2s 25ms/step - loss: 0.0144 - digit0_loss: 0.0031 - digit1_loss: 0.0038 - digit2_loss: 0.0046 - digit3_loss: 0.0028 - digit0_accuracy: 0.9984 - digit1_accuracy: 0.9986 - digit2_accuracy: 0.9985 - digit3_accuracy: 0.9985 - val_loss: 0.0061 - val_digit0_loss: 0.0014 - val_digit1_loss: 0.0026 - val_digit2_loss: 0.0014 - val_digit3_loss: 7.3561e-04 - val_digit0_accuracy: 0.9979 - val_digit1_accuracy: 0.9972 - val_digit2_accuracy: 1.0000 - val_digit3_accuracy: 0.9993\n",
      "Epoch 47/50\n",
      "101/101 [==============================] - 3s 25ms/step - loss: 0.0148 - digit0_loss: 0.0030 - digit1_loss: 0.0052 - digit2_loss: 0.0038 - digit3_loss: 0.0028 - digit0_accuracy: 0.9988 - digit1_accuracy: 0.9985 - digit2_accuracy: 0.9981 - digit3_accuracy: 0.9991 - val_loss: 0.0061 - val_digit0_loss: 0.0016 - val_digit1_loss: 0.0027 - val_digit2_loss: 0.0012 - val_digit3_loss: 4.7405e-04 - val_digit0_accuracy: 0.9986 - val_digit1_accuracy: 0.9972 - val_digit2_accuracy: 0.9993 - val_digit3_accuracy: 1.0000\n",
      "Epoch 48/50\n",
      "101/101 [==============================] - 3s 25ms/step - loss: 0.0132 - digit0_loss: 0.0030 - digit1_loss: 0.0041 - digit2_loss: 0.0039 - digit3_loss: 0.0022 - digit0_accuracy: 0.9989 - digit1_accuracy: 0.9991 - digit2_accuracy: 0.9989 - digit3_accuracy: 0.9990 - val_loss: 0.0063 - val_digit0_loss: 0.0015 - val_digit1_loss: 0.0031 - val_digit2_loss: 0.0013 - val_digit3_loss: 3.9692e-04 - val_digit0_accuracy: 0.9986 - val_digit1_accuracy: 0.9972 - val_digit2_accuracy: 1.0000 - val_digit3_accuracy: 1.0000\n"
     ]
    },
    {
     "name": "stdout",
     "output_type": "stream",
     "text": [
      "Epoch 49/50\n",
      "101/101 [==============================] - 3s 25ms/step - loss: 0.0133 - digit0_loss: 0.0027 - digit1_loss: 0.0035 - digit2_loss: 0.0043 - digit3_loss: 0.0028 - digit0_accuracy: 0.9992 - digit1_accuracy: 0.9985 - digit2_accuracy: 0.9994 - digit3_accuracy: 0.9983 - val_loss: 0.0069 - val_digit0_loss: 0.0017 - val_digit1_loss: 0.0030 - val_digit2_loss: 0.0012 - val_digit3_loss: 9.3010e-04 - val_digit0_accuracy: 0.9986 - val_digit1_accuracy: 0.9972 - val_digit2_accuracy: 1.0000 - val_digit3_accuracy: 1.0000\n",
      "Epoch 50/50\n",
      "101/101 [==============================] - 2s 24ms/step - loss: 0.0133 - digit0_loss: 0.0028 - digit1_loss: 0.0041 - digit2_loss: 0.0042 - digit3_loss: 0.0022 - digit0_accuracy: 0.9992 - digit1_accuracy: 0.9985 - digit2_accuracy: 0.9984 - digit3_accuracy: 0.9994 - val_loss: 0.0062 - val_digit0_loss: 0.0020 - val_digit1_loss: 0.0025 - val_digit2_loss: 0.0012 - val_digit3_loss: 5.2837e-04 - val_digit0_accuracy: 0.9979 - val_digit1_accuracy: 0.9986 - val_digit2_accuracy: 1.0000 - val_digit3_accuracy: 1.0000\n"
     ]
    }
   ],
   "source": [
    "history = model.fit(x_train, s_train, batch_size=BATCH_SIZE,\n",
    "                    epochs=EPOCHS,\n",
    "                    verbose=1,\n",
    "                    validation_data=(x_test, s_test)\n",
    "                   )"
   ]
  },
  {
   "cell_type": "code",
   "execution_count": 16,
   "id": "97e05660",
   "metadata": {},
   "outputs": [],
   "source": [
    "digit_acc = [[] for _ in range(NUM_OF_LETTERS)]\n",
    "val_digit_acc = [[] for _ in range(NUM_OF_LETTERS)]\n",
    "loss = []\n",
    "val_loss = []\n",
    "\n",
    "\n",
    "def plot_diagram(digit_acc_now, val_digit_acc_now, loss_now, val_loss_now):\n",
    "    global digit_acc, val_digit_acc, loss, val_loss\n",
    "    \n",
    "    for i in range(NUM_OF_LETTERS):\n",
    "        digit_acc[i].extend(digit_acc_now[i])\n",
    "        val_digit_acc[i].extend(val_digit_acc_now[i])\n",
    "    loss.extend(loss_now)\n",
    "    val_loss.extend(val_loss_now)\n",
    "    \n",
    "    for i in range(NUM_OF_LETTERS):\n",
    "        s = {0:'First', 1:'Second', 2:'Third', 3:'Fourth', 4:'Fifth'}[i]\n",
    "        # plt.plot(val_digit_acc[i], label='%s Digit Train' % s)\n",
    "        plt.plot(digit_acc[i], label='%s Digit Test' % s)\n",
    "\n",
    "    plt.title('Model accuracy')\n",
    "    plt.ylabel('Accuracy')\n",
    "    plt.xlabel('Epoch')\n",
    "    plt.legend()\n",
    "    plt.show()\n",
    "\n",
    "    for i in range(NUM_OF_LETTERS):\n",
    "        s = {0:'First', 1:'Second', 2:'Third', 3:'Fourth', 4:'Fifth'}[i]\n",
    "        plt.plot(val_digit_acc[i], label='%s Digit Train' % s)\n",
    "        # plt.plot(digit_acc[i], label='%s Digit Test' % s)\n",
    "\n",
    "    plt.title('Model accuracy')\n",
    "    plt.ylabel('Accuracy')\n",
    "    plt.xlabel('Epoch')\n",
    "    plt.legend()\n",
    "    plt.show()\n",
    "\n",
    "\n",
    "\n",
    "    # Plot training & validation loss values\n",
    "    plt.plot(val_loss, label='Train')\n",
    "    plt.plot(loss, label='Test')\n",
    "    plt.title('Model loss')\n",
    "    plt.ylabel('Loss')\n",
    "    plt.xlabel('Epoch')\n",
    "    plt.legend()\n",
    "    plt.show()"
   ]
  },
  {
   "cell_type": "code",
   "execution_count": 17,
   "id": "0042b396",
   "metadata": {},
   "outputs": [
    {
     "data": {
      "image/png": "[encoded data removed]",
      "text/plain": [
       "<Figure size 432x288 with 1 Axes>"
      ]
     },
     "metadata": {
      "needs_background": "light"
     },
     "output_type": "display_data"
    },
    {
     "data": {
      "image/png": "[encoded data removed]",
      "text/plain": [
       "<Figure size 432x288 with 1 Axes>"
      ]
     },
     "metadata": {
      "needs_background": "light"
     },
     "output_type": "display_data"
    },
    {
     "data": {
      "image/png": "[encoded data removed]",
      "text/plain": [
       "<Figure size 432x288 with 1 Axes>"
      ]
     },
     "metadata": {
      "needs_background": "light"
     },
     "output_type": "display_data"
    }
   ],
   "source": [
    "plot_diagram(\n",
    "    \n",
    "    [history.history['digit%d_accuracy' % i] for i in range(NUM_OF_LETTERS)],\n",
    "    [history.history['val_digit%d_accuracy' % i] for i in range(NUM_OF_LETTERS)],\n",
    "    history.history['loss'],\n",
    "    history.history['val_loss'],\n",
    ")"
   ]
  },
  {
   "cell_type": "code",
   "execution_count": 18,
   "id": "3056f1f4",
   "metadata": {},
   "outputs": [
    {
     "name": "stdout",
     "output_type": "stream",
     "text": [
      "Saved trained model at C:\\Users\\Qwerty\\Downloads\\captcha_solver\\saved_models\\keras_cifar10_trained_jpj_model.h5 \n"
     ]
    }
   ],
   "source": [
    "# Save model and weights\n",
    "if not os.path.isdir(save_dir):\n",
    "    os.makedirs(save_dir)\n",
    "model_path = os.path.join(save_dir, model_name)\n",
    "model.save(model_path)\n",
    "print('Saved trained model at %s ' % model_path)"
   ]
  },
  {
   "cell_type": "code",
   "execution_count": 19,
   "id": "e4a3d2eb",
   "metadata": {},
   "outputs": [
    {
     "name": "stdout",
     "output_type": "stream",
     "text": [
      "402/402 [==============================] - 3s 8ms/step - loss: 1.8969e-04 - digit0_loss: 4.7383e-05 - digit1_loss: 5.7723e-05 - digit2_loss: 5.5999e-05 - digit3_loss: 2.8581e-05 - digit0_accuracy: 1.0000 - digit1_accuracy: 1.0000 - digit2_accuracy: 1.0000 - digit3_accuracy: 1.0000\n",
      "Train loss:     0.000088\n",
      "Train accuracy: 100.00\n"
     ]
    }
   ],
   "source": [
    "# Score trained model.\n",
    "scores = model.evaluate(x_train, s_train, verbose=1)\n",
    "print('Train loss:     %f' % np.mean(scores[0:NUM_OF_LETTERS]))\n",
    "acc = 1.\n",
    "for i in range(NUM_OF_LETTERS):\n",
    "    acc *= scores[NUM_OF_LETTERS+1+i]\n",
    "print('Train accuracy: %.2f' % (acc * 100.))"
   ]
  },
  {
   "cell_type": "code",
   "execution_count": 20,
   "id": "20a752bf",
   "metadata": {},
   "outputs": [
    {
     "name": "stdout",
     "output_type": "stream",
     "text": [
      "45/45 [==============================] - 0s 8ms/step - loss: 0.0062 - digit0_loss: 0.0020 - digit1_loss: 0.0025 - digit2_loss: 0.0012 - digit3_loss: 5.2844e-04 - digit0_accuracy: 0.9979 - digit1_accuracy: 0.9986 - digit2_accuracy: 1.0000 - digit3_accuracy: 1.0000  \n",
      "Test loss:     0.002959\n",
      "Test accuracy: 99.65\n"
     ]
    }
   ],
   "source": [
    "scores = model.evaluate(x_test, s_test, verbose=1)\n",
    "print('Test loss:     %f' % np.mean(scores[0:NUM_OF_LETTERS]))\n",
    "acc = 1.\n",
    "for i in range(NUM_OF_LETTERS):\n",
    "    acc *= scores[NUM_OF_LETTERS+1+i]\n",
    "print('Test accuracy: %.2f' % (acc * 100.))"
   ]
  },
  {
   "cell_type": "code",
   "execution_count": null,
   "id": "bcce9b35",
   "metadata": {},
   "outputs": [],
   "source": []
  }
 ],
 "metadata": {
  "kernelspec": {
   "display_name": "Python 3",
   "language": "python",
   "name": "python3"
  },
  "language_info": {
   "codemirror_mode": {
    "name": "ipython",
    "version": 3
   },
   "file_extension": ".py",
   "mimetype": "text/x-python",
   "name": "python",
   "nbconvert_exporter": "python",
   "pygments_lexer": "ipython3",
   "version": "3.8.8"
  }
 },
 "nbformat": 4,
 "nbformat_minor": 5
}
