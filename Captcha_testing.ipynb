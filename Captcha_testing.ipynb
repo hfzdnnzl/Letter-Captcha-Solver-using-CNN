{
 "cells": [
  {
   "cell_type": "code",
   "execution_count": 1,
   "id": "df39fe04",
   "metadata": {},
   "outputs": [],
   "source": [
    "import os\n",
    "import cv2\n",
    "import keras\n",
    "import urllib\n",
    "\n",
    "import numpy as np\n",
    "\n",
    "from PIL import Image\n",
    "from selenium import webdriver"
   ]
  },
  {
   "cell_type": "code",
   "execution_count": 2,
   "id": "129dba08",
   "metadata": {},
   "outputs": [],
   "source": [
    "DATA_PATH = 'C:\\\\Users\\\\Qwerty\\\\Downloads\\\\captcha_solver\\\\train\\\\captcha'\n",
    "model = keras.models.load_model('saved_models/keras_cifar10_trained_jpj_model.h5')"
   ]
  },
  {
   "cell_type": "code",
   "execution_count": 4,
   "id": "38d15ec8",
   "metadata": {},
   "outputs": [
    {
     "name": "stdout",
     "output_type": "stream",
     "text": [
      "2026\n"
     ]
    }
   ],
   "source": [
    "# testing captcha model\n",
    "# read image\n",
    "path = 'C:\\\\Users\\\\Qwerty\\\\Downloads\\\\captcha_solver\\\\train\\\\semakan-saman.png'\n",
    "img = cv2.imread(path,cv2.IMREAD_UNCHANGED)\n",
    "if(img.shape[2]==4):\n",
    "    trans_mask = img[:,:,3] == 0\n",
    "    img[trans_mask] = [255, 255, 255, 255]\n",
    "    img = cv2.cvtColor(img, cv2.COLOR_BGRA2GRAY)\n",
    "else:\n",
    "    img = cv2.cvtColor(img, cv2.COLOR_BGR2GRAY)\n",
    "img = cv2.resize(img, (75, 25), interpolation=cv2.INTER_AREA)\n",
    "# reshape image\n",
    "img_np = np.reshape(img, (1, img.shape[0], img.shape[1], 1))\n",
    "# predict\n",
    "img_predicted = model.predict(img_np)\n",
    "img_predicted = np.squeeze(np.argmax(img_predicted,axis=2))\n",
    "captcha = ''.join([str(x) for x in img_predicted])\n",
    "# print result\n",
    "print(captcha)"
   ]
  },
  {
   "cell_type": "code",
   "execution_count": 8,
   "id": "9064e6ff",
   "metadata": {},
   "outputs": [
    {
     "data": {
      "text/plain": [
       "(50, 150, 3)"
      ]
     },
     "execution_count": 8,
     "metadata": {},
     "output_type": "execute_result"
    }
   ],
   "source": [
    "img = cv2.imread(path,cv2.IMREAD_UNCHANGED)\n",
    "img.shape"
   ]
  },
  {
   "cell_type": "code",
   "execution_count": 6,
   "id": "14b5bf5e",
   "metadata": {},
   "outputs": [
    {
     "data": {
      "text/plain": [
       "[array([[0., 0., 0., 0., 1., 0., 0., 0., 0., 0.]], dtype=float32),\n",
       " array([[0., 0., 0., 0., 0., 0., 1., 0., 0., 0.]], dtype=float32),\n",
       " array([[0., 0., 0., 0., 0., 0., 1., 0., 0., 0.]], dtype=float32),\n",
       " array([[0., 0., 0., 0., 1., 0., 0., 0., 0., 0.]], dtype=float32)]"
      ]
     },
     "execution_count": 6,
     "metadata": {},
     "output_type": "execute_result"
    }
   ],
   "source": [
    "model.predict(img_np)"
   ]
  },
  {
   "cell_type": "code",
   "execution_count": 5,
   "id": "b64e6f86",
   "metadata": {},
   "outputs": [
    {
     "data": {
      "image/png": "[encoded data removed]",
      "text/plain": [
       "<PIL.PngImagePlugin.PngImageFile image mode=RGBA size=150x50 at 0x1802A15DB50>"
      ]
     },
     "execution_count": 5,
     "metadata": {},
     "output_type": "execute_result"
    }
   ],
   "source": [
    "# captcha image\n",
    "Image.open(path)"
   ]
  }
 ],
 "metadata": {
  "kernelspec": {
   "display_name": "Python 3",
   "language": "python",
   "name": "python3"
  },
  "language_info": {
   "codemirror_mode": {
    "name": "ipython",
    "version": 3
   },
   "file_extension": ".py",
   "mimetype": "text/x-python",
   "name": "python",
   "nbconvert_exporter": "python",
   "pygments_lexer": "ipython3",
   "version": "3.8.8"
  }
 },
 "nbformat": 4,
 "nbformat_minor": 5
}
