{
 "cells": [
  {
   "cell_type": "code",
   "execution_count": 1,
   "id": "e9659174",
   "metadata": {},
   "outputs": [
    {
     "name": "stdout",
     "output_type": "stream",
     "text": [
      "Requirement already satisfied: captcha in c:\\users\\qwerty\\anaconda3\\lib\\site-packages (0.3)\n",
      "Requirement already satisfied: Pillow in c:\\users\\qwerty\\anaconda3\\lib\\site-packages (from captcha) (8.2.0)\n",
      "Note: you may need to restart the kernel to use updated packages.\n",
      "Requirement already satisfied: opencv-python in c:\\users\\qwerty\\anaconda3\\lib\\site-packages (4.5.3.56)\n",
      "Requirement already satisfied: numpy>=1.17.3 in c:\\users\\qwerty\\anaconda3\\lib\\site-packages (from opencv-python) (1.19.5)\n",
      "Note: you may need to restart the kernel to use updated packages.\n"
     ]
    },
    {
     "name": "stderr",
     "output_type": "stream",
     "text": [
      "'apt' is not recognized as an internal or external command,\n",
      "operable program or batch file.\n"
     ]
    },
    {
     "name": "stdout",
     "output_type": "stream",
     "text": [
      "Requirement already satisfied: opencv-python-headless in c:\\users\\qwerty\\anaconda3\\lib\\site-packages (4.5.3.56)\n",
      "Requirement already satisfied: numpy>=1.17.3 in c:\\users\\qwerty\\anaconda3\\lib\\site-packages (from opencv-python-headless) (1.19.5)\n",
      "Requirement already satisfied: opencv-contrib-python-headless in c:\\users\\qwerty\\anaconda3\\lib\\site-packages (4.5.3.56)\n",
      "Requirement already satisfied: numpy>=1.17.3 in c:\\users\\qwerty\\anaconda3\\lib\\site-packages (from opencv-contrib-python-headless) (1.19.5)\n",
      "Requirement already satisfied: keras in c:\\users\\qwerty\\anaconda3\\lib\\site-packages (2.4.3)\n",
      "Requirement already satisfied: pyyaml in c:\\users\\qwerty\\anaconda3\\lib\\site-packages (from keras) (5.4.1)\n",
      "Requirement already satisfied: h5py in c:\\users\\qwerty\\anaconda3\\lib\\site-packages (from keras) (3.1.0)\n",
      "Requirement already satisfied: numpy>=1.9.1 in c:\\users\\qwerty\\anaconda3\\lib\\site-packages (from keras) (1.19.5)\n",
      "Requirement already satisfied: scipy>=0.14 in c:\\users\\qwerty\\anaconda3\\lib\\site-packages (from keras) (1.6.2)\n",
      "Note: you may need to restart the kernel to use updated packages.\n"
     ]
    }
   ],
   "source": [
    "%pip install captcha \n",
    "%pip install opencv-python\n",
    "!apt update && apt install -y libsm6 libxext6\n",
    "!pip install opencv-python-headless\n",
    "!pip install opencv-contrib-python-headless\n",
    "%pip install keras\n",
    "\n",
    "\n",
    "import argparse\n",
    "import json\n",
    "import string\n",
    "import os\n",
    "import shutil\n",
    "import uuid\n",
    "from captcha.image import ImageCaptcha\n",
    "\n",
    "import itertools\n",
    "\n",
    "import os\n",
    "import cv2\n",
    "import numpy as np\n",
    "from random import random, randint, choices\n",
    "\n",
    "import keras\n",
    "from keras.models import Sequential, Model\n",
    "from keras.layers import Dense, Dropout, Activation, Flatten\n",
    "from keras.layers import Conv2D, MaxPooling2D, Input\n",
    "import matplotlib.pyplot as plt"
   ]
  },
  {
   "cell_type": "code",
   "execution_count": 3,
   "id": "7820c786",
   "metadata": {},
   "outputs": [],
   "source": [
    "BATCH_SIZE = 128\n",
    "EPOCHS = 50\n",
    "IMG_ROW, IMG_COLS = 50, 150\n",
    "\n",
    "\n",
    "# Non-configs\n",
    "PATH = os.getcwd()\n",
    "DATA_PATH = os.path.join(PATH, 'train\\\\gen_bad_captcha')"
   ]
  },
  {
   "cell_type": "code",
   "execution_count": 13,
   "id": "5e25adc4",
   "metadata": {},
   "outputs": [],
   "source": [
    "def load_data(path, test_split=0.1, width=IMG_COLS, height=IMG_ROW):\n",
    "    print ('loading dataset...')\n",
    "    y_train = []\n",
    "    y_test = []\n",
    "    x_train = []\n",
    "    x_test = []\n",
    "\n",
    "    # r=root, d=directories, f = files\n",
    "    counter = 0\n",
    "    for r, d, f in os.walk(path):\n",
    "        for fl in f:\n",
    "            if '.png' in fl:\n",
    "                flr = fl.split('_')[0]\n",
    "                counter += 1\n",
    "                if(flr=='bad'):\n",
    "                    label = np.array([0,1])\n",
    "                else:\n",
    "                    label = np.array([1,0])\n",
    "\n",
    "                img = cv2.imread(os.path.join(r, fl),cv2.IMREAD_UNCHANGED)\n",
    "                img = cv2.cvtColor(img, cv2.COLOR_RGB2GRAY)\n",
    "                img = cv2.resize(img, (int(width/2), int(height/2)), interpolation=cv2.INTER_AREA)\n",
    "                img = np.reshape(img, (img.shape[0], img.shape[1], 1))\n",
    "\n",
    "                if random() < test_split:\n",
    "                    y_test.append(label)\n",
    "                    x_test.append(img)\n",
    "                else:\n",
    "                    y_train.append(label)\n",
    "                    x_train.append(img)\n",
    "\n",
    "    print('dataset size:', counter, '(train=%d, test=%d)' % (len(y_train), len(y_test)))\n",
    "    return np.array(x_train), np.array(y_train), np.array(x_test), np.array(y_test)"
   ]
  },
  {
   "cell_type": "code",
   "execution_count": 14,
   "id": "90e0e648",
   "metadata": {},
   "outputs": [
    {
     "name": "stdout",
     "output_type": "stream",
     "text": [
      "loading dataset...\n",
      "dataset size: 7243 (train=6583, test=660)\n"
     ]
    }
   ],
   "source": [
    "x_train, y_train, x_test, y_test = load_data(DATA_PATH)\n",
    "x_train = x_train.astype('float32')\n",
    "x_test = x_test.astype('float32')\n",
    "x_train /= 255\n",
    "x_test /= 255"
   ]
  },
  {
   "cell_type": "code",
   "execution_count": 15,
   "id": "c8919f60",
   "metadata": {},
   "outputs": [
    {
     "name": "stdout",
     "output_type": "stream",
     "text": [
      "(6583, 25, 75, 1)\n",
      "(6583, 2)\n",
      "(660, 25, 75, 1)\n",
      "(660, 2)\n"
     ]
    }
   ],
   "source": [
    "print(x_train.shape)\n",
    "print(y_train.shape)\n",
    "print(x_test.shape)\n",
    "print(y_test.shape)"
   ]
  },
  {
   "cell_type": "code",
   "execution_count": 12,
   "id": "a164d980",
   "metadata": {},
   "outputs": [],
   "source": [
    "save_dir = os.path.join(PATH, 'saved_models')\n",
    "model_name = 'keras_cifar10_trained_captcha_eval_model.h5'"
   ]
  },
  {
   "cell_type": "code",
   "execution_count": 16,
   "id": "69f8c86e",
   "metadata": {},
   "outputs": [],
   "source": [
    "input_layer = Input((int(IMG_ROW/2), int(IMG_COLS/2), 1))\n",
    "x = Conv2D(filters=32, kernel_size=(5, 5), padding='same', activation='relu')(input_layer)\n",
    "x = MaxPooling2D(pool_size=(2, 2))(x)\n",
    "\n",
    "x = Conv2D(filters=48, kernel_size=(5, 5), padding='same', activation='relu')(x)\n",
    "x = MaxPooling2D(pool_size=(2, 2))(x)\n",
    "\n",
    "x = Conv2D(filters=64, kernel_size=(5, 5), padding='same', activation='relu')(x)\n",
    "x = MaxPooling2D(pool_size=(2, 2))(x)\n",
    "\n",
    "x = Dropout(0.3)(x)\n",
    "x = Flatten()(x)\n",
    "x = Dense(512, activation='relu')(x)\n",
    "x = Dropout(0.3)(x)\n",
    "\n",
    "out = Dense(2, activation='softmax')(x)\n",
    "model = Model(inputs=input_layer, outputs=out)"
   ]
  },
  {
   "cell_type": "code",
   "execution_count": 17,
   "id": "425f671e",
   "metadata": {},
   "outputs": [
    {
     "name": "stdout",
     "output_type": "stream",
     "text": [
      "Model: \"model\"\n",
      "_________________________________________________________________\n",
      "Layer (type)                 Output Shape              Param #   \n",
      "=================================================================\n",
      "input_1 (InputLayer)         [(None, 25, 75, 1)]       0         \n",
      "_________________________________________________________________\n",
      "conv2d (Conv2D)              (None, 25, 75, 32)        832       \n",
      "_________________________________________________________________\n",
      "max_pooling2d (MaxPooling2D) (None, 12, 37, 32)        0         \n",
      "_________________________________________________________________\n",
      "conv2d_1 (Conv2D)            (None, 12, 37, 48)        38448     \n",
      "_________________________________________________________________\n",
      "max_pooling2d_1 (MaxPooling2 (None, 6, 18, 48)         0         \n",
      "_________________________________________________________________\n",
      "conv2d_2 (Conv2D)            (None, 6, 18, 64)         76864     \n",
      "_________________________________________________________________\n",
      "max_pooling2d_2 (MaxPooling2 (None, 3, 9, 64)          0         \n",
      "_________________________________________________________________\n",
      "dropout (Dropout)            (None, 3, 9, 64)          0         \n",
      "_________________________________________________________________\n",
      "flatten (Flatten)            (None, 1728)              0         \n",
      "_________________________________________________________________\n",
      "dense (Dense)                (None, 512)               885248    \n",
      "_________________________________________________________________\n",
      "dropout_1 (Dropout)          (None, 512)               0         \n",
      "_________________________________________________________________\n",
      "dense_1 (Dense)              (None, 2)                 1026      \n",
      "=================================================================\n",
      "Total params: 1,002,418\n",
      "Trainable params: 1,002,418\n",
      "Non-trainable params: 0\n",
      "_________________________________________________________________\n"
     ]
    }
   ],
   "source": [
    "# initiate Adam optimizer\n",
    "model.compile(loss='binary_crossentropy',\n",
    "              optimizer='adam',\n",
    "              metrics=['accuracy'])\n",
    "\n",
    "\n",
    "model.summary() "
   ]
  },
  {
   "cell_type": "code",
   "execution_count": 22,
   "id": "89d41755",
   "metadata": {},
   "outputs": [
    {
     "name": "stdout",
     "output_type": "stream",
     "text": [
      "Epoch 1/50\n",
      "52/52 [==============================] - 14s 31ms/step - loss: 0.4533 - accuracy: 0.7689 - val_loss: 0.1565 - val_accuracy: 0.9455\n",
      "Epoch 2/50\n",
      "52/52 [==============================] - 1s 18ms/step - loss: 0.1113 - accuracy: 0.9612 - val_loss: 0.0890 - val_accuracy: 0.9773\n",
      "Epoch 3/50\n",
      "52/52 [==============================] - 1s 19ms/step - loss: 0.0930 - accuracy: 0.9703 - val_loss: 0.0735 - val_accuracy: 0.9833\n",
      "Epoch 4/50\n",
      "52/52 [==============================] - 1s 19ms/step - loss: 0.0617 - accuracy: 0.9829 - val_loss: 0.0724 - val_accuracy: 0.9833\n",
      "Epoch 5/50\n",
      "52/52 [==============================] - 1s 19ms/step - loss: 0.0405 - accuracy: 0.9877 - val_loss: 0.0507 - val_accuracy: 0.9833\n",
      "Epoch 6/50\n",
      "52/52 [==============================] - 1s 18ms/step - loss: 0.0349 - accuracy: 0.9889 - val_loss: 0.0889 - val_accuracy: 0.9727\n",
      "Epoch 7/50\n",
      "52/52 [==============================] - 1s 18ms/step - loss: 0.0399 - accuracy: 0.9865 - val_loss: 0.0616 - val_accuracy: 0.9803\n",
      "Epoch 8/50\n",
      "52/52 [==============================] - 1s 18ms/step - loss: 0.0359 - accuracy: 0.9880 - val_loss: 0.0319 - val_accuracy: 0.9879\n",
      "Epoch 9/50\n",
      "52/52 [==============================] - 1s 19ms/step - loss: 0.0168 - accuracy: 0.9940 - val_loss: 0.0262 - val_accuracy: 0.9909\n",
      "Epoch 10/50\n",
      "52/52 [==============================] - 1s 19ms/step - loss: 0.0067 - accuracy: 0.9981 - val_loss: 0.0222 - val_accuracy: 0.9939\n",
      "Epoch 11/50\n",
      "52/52 [==============================] - 1s 18ms/step - loss: 0.0066 - accuracy: 0.9982 - val_loss: 0.0495 - val_accuracy: 0.9879\n",
      "Epoch 12/50\n",
      "52/52 [==============================] - 1s 19ms/step - loss: 0.0122 - accuracy: 0.9946 - val_loss: 0.0250 - val_accuracy: 0.9909\n",
      "Epoch 13/50\n",
      "52/52 [==============================] - 1s 19ms/step - loss: 0.0040 - accuracy: 0.9989 - val_loss: 0.0151 - val_accuracy: 0.9955\n",
      "Epoch 14/50\n",
      "52/52 [==============================] - 1s 19ms/step - loss: 0.0074 - accuracy: 0.9970 - val_loss: 0.0266 - val_accuracy: 0.9909\n",
      "Epoch 15/50\n",
      "52/52 [==============================] - 1s 18ms/step - loss: 0.0039 - accuracy: 0.9989 - val_loss: 0.0184 - val_accuracy: 0.9955\n",
      "Epoch 16/50\n",
      "52/52 [==============================] - 1s 19ms/step - loss: 0.0019 - accuracy: 0.9997 - val_loss: 0.0175 - val_accuracy: 0.9955\n",
      "Epoch 17/50\n",
      "52/52 [==============================] - 1s 18ms/step - loss: 0.0034 - accuracy: 0.9990 - val_loss: 0.0281 - val_accuracy: 0.9939\n",
      "Epoch 18/50\n",
      "52/52 [==============================] - 1s 19ms/step - loss: 0.0053 - accuracy: 0.9985 - val_loss: 0.0416 - val_accuracy: 0.9924\n",
      "Epoch 19/50\n",
      "52/52 [==============================] - 1s 19ms/step - loss: 0.0031 - accuracy: 0.9994 - val_loss: 0.0190 - val_accuracy: 0.9955\n",
      "Epoch 20/50\n",
      "52/52 [==============================] - 1s 19ms/step - loss: 0.0045 - accuracy: 0.9985 - val_loss: 0.0420 - val_accuracy: 0.9879\n",
      "Epoch 21/50\n",
      "52/52 [==============================] - 1s 19ms/step - loss: 0.0181 - accuracy: 0.9949 - val_loss: 0.0186 - val_accuracy: 0.9924\n",
      "Epoch 22/50\n",
      "52/52 [==============================] - 1s 19ms/step - loss: 0.0023 - accuracy: 0.9995 - val_loss: 0.0199 - val_accuracy: 0.9924\n",
      "Epoch 23/50\n",
      "52/52 [==============================] - 1s 19ms/step - loss: 0.0021 - accuracy: 0.9993 - val_loss: 0.0254 - val_accuracy: 0.9939\n",
      "Epoch 24/50\n",
      "52/52 [==============================] - 1s 18ms/step - loss: 5.1648e-04 - accuracy: 1.0000 - val_loss: 0.0292 - val_accuracy: 0.9924\n",
      "Epoch 25/50\n",
      "52/52 [==============================] - 1s 18ms/step - loss: 0.0282 - accuracy: 0.9896 - val_loss: 0.0168 - val_accuracy: 0.9939\n",
      "Epoch 26/50\n",
      "52/52 [==============================] - 1s 18ms/step - loss: 0.0013 - accuracy: 0.9999 - val_loss: 0.0163 - val_accuracy: 0.9939\n",
      "Epoch 27/50\n",
      "52/52 [==============================] - 1s 19ms/step - loss: 4.0269e-04 - accuracy: 1.0000 - val_loss: 0.0162 - val_accuracy: 0.9970\n",
      "Epoch 28/50\n",
      "52/52 [==============================] - 1s 19ms/step - loss: 7.7790e-04 - accuracy: 0.9999 - val_loss: 0.0125 - val_accuracy: 0.9955\n",
      "Epoch 29/50\n",
      "52/52 [==============================] - 1s 19ms/step - loss: 4.4976e-04 - accuracy: 1.0000 - val_loss: 0.0103 - val_accuracy: 0.9955\n",
      "Epoch 30/50\n",
      "52/52 [==============================] - 1s 19ms/step - loss: 4.5692e-04 - accuracy: 0.9999 - val_loss: 0.0438 - val_accuracy: 0.9939\n",
      "Epoch 31/50\n",
      "52/52 [==============================] - 1s 19ms/step - loss: 0.0027 - accuracy: 0.9991 - val_loss: 0.0137 - val_accuracy: 0.9955\n",
      "Epoch 32/50\n",
      "52/52 [==============================] - 1s 18ms/step - loss: 4.0136e-04 - accuracy: 1.0000 - val_loss: 0.0119 - val_accuracy: 0.9955\n",
      "Epoch 33/50\n",
      "52/52 [==============================] - 1s 18ms/step - loss: 1.1118e-04 - accuracy: 1.0000 - val_loss: 0.0124 - val_accuracy: 0.9955\n",
      "Epoch 34/50\n",
      "52/52 [==============================] - 1s 19ms/step - loss: 1.5103e-04 - accuracy: 1.0000 - val_loss: 0.0200 - val_accuracy: 0.9955\n",
      "Epoch 35/50\n",
      "52/52 [==============================] - 1s 19ms/step - loss: 9.0247e-05 - accuracy: 1.0000 - val_loss: 0.0269 - val_accuracy: 0.9955\n",
      "Epoch 36/50\n",
      "52/52 [==============================] - 1s 18ms/step - loss: 1.7480e-04 - accuracy: 1.0000 - val_loss: 0.0160 - val_accuracy: 0.9955\n",
      "Epoch 37/50\n",
      "52/52 [==============================] - 1s 18ms/step - loss: 4.2232e-05 - accuracy: 1.0000 - val_loss: 0.0150 - val_accuracy: 0.9955\n",
      "Epoch 38/50\n",
      "52/52 [==============================] - 1s 18ms/step - loss: 7.8744e-05 - accuracy: 1.0000 - val_loss: 0.0167 - val_accuracy: 0.9955\n",
      "Epoch 39/50\n",
      "52/52 [==============================] - 1s 19ms/step - loss: 6.9873e-05 - accuracy: 1.0000 - val_loss: 0.0150 - val_accuracy: 0.9955\n",
      "Epoch 40/50\n",
      "52/52 [==============================] - 1s 18ms/step - loss: 2.8546e-05 - accuracy: 1.0000 - val_loss: 0.0162 - val_accuracy: 0.9955\n",
      "Epoch 41/50\n",
      "52/52 [==============================] - 1s 18ms/step - loss: 3.0536e-05 - accuracy: 1.0000 - val_loss: 0.0180 - val_accuracy: 0.9955\n",
      "Epoch 42/50\n",
      "52/52 [==============================] - 1s 18ms/step - loss: 2.1756e-05 - accuracy: 1.0000 - val_loss: 0.0178 - val_accuracy: 0.9955\n",
      "Epoch 43/50\n",
      "52/52 [==============================] - 1s 18ms/step - loss: 1.0863e-05 - accuracy: 1.0000 - val_loss: 0.0161 - val_accuracy: 0.9955\n",
      "Epoch 44/50\n",
      "52/52 [==============================] - 1s 18ms/step - loss: 2.8369e-05 - accuracy: 1.0000 - val_loss: 0.0168 - val_accuracy: 0.9955\n",
      "Epoch 45/50\n",
      "52/52 [==============================] - 1s 19ms/step - loss: 3.4677e-05 - accuracy: 1.0000 - val_loss: 0.0198 - val_accuracy: 0.9955\n",
      "Epoch 46/50\n",
      "52/52 [==============================] - 1s 19ms/step - loss: 1.1661e-05 - accuracy: 1.0000 - val_loss: 0.0197 - val_accuracy: 0.9955\n",
      "Epoch 47/50\n",
      "52/52 [==============================] - 1s 18ms/step - loss: 1.0496e-05 - accuracy: 1.0000 - val_loss: 0.0210 - val_accuracy: 0.9955\n",
      "Epoch 48/50\n",
      "52/52 [==============================] - 1s 18ms/step - loss: 2.5551e-05 - accuracy: 1.0000 - val_loss: 0.0092 - val_accuracy: 0.9970\n",
      "Epoch 49/50\n",
      "52/52 [==============================] - 1s 18ms/step - loss: 1.7586e-05 - accuracy: 1.0000 - val_loss: 0.0082 - val_accuracy: 0.9939\n",
      "Epoch 50/50\n",
      "52/52 [==============================] - 1s 18ms/step - loss: 2.9082e-05 - accuracy: 1.0000 - val_loss: 0.0157 - val_accuracy: 0.9955\n"
     ]
    }
   ],
   "source": [
    "history = model.fit(x_train, y_train, batch_size=BATCH_SIZE,\n",
    "                    epochs=EPOCHS,\n",
    "                    verbose=1,\n",
    "                    validation_data=(x_test, y_test)\n",
    "                   )"
   ]
  },
  {
   "cell_type": "code",
   "execution_count": 23,
   "id": "fe841f9b",
   "metadata": {},
   "outputs": [
    {
     "name": "stdout",
     "output_type": "stream",
     "text": [
      "Saved trained model at C:\\Users\\Qwerty\\Downloads\\captcha_solver\\saved_models\\keras_cifar10_trained_captcha_eval_model.h5 \n"
     ]
    }
   ],
   "source": [
    "# Save model and weights\n",
    "if not os.path.isdir(save_dir):\n",
    "    os.makedirs(save_dir)\n",
    "model_path = os.path.join(save_dir, model_name)\n",
    "model.save(model_path)\n",
    "print('Saved trained model at %s ' % model_path)"
   ]
  },
  {
   "cell_type": "code",
   "execution_count": 25,
   "id": "06a4baf4",
   "metadata": {},
   "outputs": [
    {
     "name": "stdout",
     "output_type": "stream",
     "text": [
      "206/206 [==============================] - 1s 4ms/step - loss: 3.3466e-06 - accuracy: 1.0000\n",
      "Train loss:     0.000003\n",
      "Train accuracy: 100.00\n"
     ]
    }
   ],
   "source": [
    "# Score trained model.\n",
    "scores = model.evaluate(x_train, y_train, verbose=1)\n",
    "print('Train loss:     %f' % np.mean(scores[0]))\n",
    "acc = 1.\n",
    "acc *= scores[1]\n",
    "print('Train accuracy: %.2f' % (acc * 100.))"
   ]
  }
 ],
 "metadata": {
  "kernelspec": {
   "display_name": "Python 3",
   "language": "python",
   "name": "python3"
  },
  "language_info": {
   "codemirror_mode": {
    "name": "ipython",
    "version": 3
   },
   "file_extension": ".py",
   "mimetype": "text/x-python",
   "name": "python",
   "nbconvert_exporter": "python",
   "pygments_lexer": "ipython3",
   "version": "3.8.8"
  }
 },
 "nbformat": 4,
 "nbformat_minor": 5
}
